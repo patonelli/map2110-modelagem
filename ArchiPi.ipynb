{
 "metadata": {
  "name": "ArchiPi"
 },
 "nbformat": 3,
 "nbformat_minor": 0,
 "worksheets": [
  {
   "cells": [
    {
     "cell_type": "markdown",
     "metadata": {},
     "source": [
      "M\u00e9todo de arquimedes para Pi\n",
      "====================\n",
      "Considere uma circunfer\u00eancia de di\u00e2metro 1. O n\u00famero $\\pi$ \u00e9 exatamente o di\u00e2metro desta circunfer\u00eancia. O m\u00e9todo de Arquimedes consiste em considerar, para cada n\u00famero natural $n$,\n",
      "os pol\u00edgonos regulares inscritos e circunscritos, com $2^n$ lados. O per\u00edmetro do pol\u00edgono inscrito chamaremos de $p_n$ e o do circunscrito $P_n$. As rela\u00e7\u00f5es $p_n< \\pi < P_n $  s\u00e3o\n",
      "claras e al\u00e9m disso $P_n,p_n \\to \\pi$ quando $n\\to \\infty$.\n",
      "\n",
      "Usando rela\u00e7\u00f5es trigonom\u00e9tricas podemos obter as equa\u00e7\u00f5es:\n",
      "$$ P_{n+1}=\\frac{2P_np_n}{(P_n+p_n)} $$\n",
      "$$ p_{n+1}=\\sqrt{p_nP_{n+1}} $$\n",
      "\n",
      "Usando o m\u00f3dulo **decimal** obtemos o programa:\n"
     ]
    },
    {
     "cell_type": "code",
     "collapsed": false,
     "input": [
      "import decimal\n",
      "\n",
      "def ArchPi(precision=99):\n",
      "    # x: circumference of the circumscribed (outside) regular polygon\n",
      "    # y: circumference of the inscribed (inside) regular polygon\n",
      "\n",
      "    decimal.getcontext().prec = precision+1\n",
      "    D=decimal.Decimal\n",
      "    \n",
      "    # max error allowed\n",
      "    eps = D(1)/D(10**precision)\n",
      "    \n",
      "    # initialize w/ square\n",
      "    x = D(4)\n",
      "    y = D(2)*D(2).sqrt()\n",
      "\n",
      "    ctr = D(0)\n",
      "    while x-y > eps:\n",
      "        xnew = 2*x*y/(x+y)\n",
      "        y = D(xnew*y).sqrt()\n",
      "        x = xnew\n",
      "        ctr += 1\n",
      "        \n",
      "    return str((x+y)/D(2))\n",
      "print(ArchPi(99))"
     ],
     "language": "python",
     "metadata": {},
     "outputs": [
      {
       "output_type": "stream",
       "stream": "stdout",
       "text": [
        "3.141592653589793238462643383279502884197169399375105820974944592307816406286208998628034825342117068\n"
       ]
      }
     ],
     "prompt_number": 2
    },
    {
     "cell_type": "code",
     "collapsed": false,
     "input": [
      "print(ArchPi(201))"
     ],
     "language": "python",
     "metadata": {},
     "outputs": [
      {
       "output_type": "stream",
       "stream": "stdout",
       "text": [
        "3.141592653589793238462643383279502884197169399375105820974944592307816406286208998628034825342117067982148086513282306647093844609550582231725359408128481117450284102701938521105559644622948954930381978\n"
       ]
      }
     ],
     "prompt_number": 3
    },
    {
     "cell_type": "code",
     "collapsed": false,
     "input": [],
     "language": "python",
     "metadata": {},
     "outputs": []
    }
   ],
   "metadata": {}
  }
 ]
}