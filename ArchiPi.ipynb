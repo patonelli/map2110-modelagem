{
 "cells": [
  {
   "cell_type": "markdown",
   "metadata": {},
   "source": [
    "---\n",
    "-title: Metodo de Arquimedes\n",
    "-author: Pedro A Tonelli\n",
    "-date: 26 de fevereiro de 2020\n",
    "\n",
    "---\n",
    "\n",
    "## Método de arquimedes para Pi\n",
    "\n",
    "Considere uma circunferência de diâmetro 1. O número $\\pi$ é exatamente o diâmetro desta circunferência. O método de Arquimedes consiste em considerar, para cada número natural $n$,\n",
    "os polígonos regulares inscritos e circunscritos, com $2^n$ lados. O perímetro do polígono inscrito chamaremos de $p_n$ e o do circunscrito $P_n$. As relações $p_n< \\pi < P_n$  são\n",
    "claras e além disso $P_n,p_n \\to \\pi$ quando $n\\to \\infty$.\n",
    "\n",
    "Usando relações trigonométricas podemos obter as equações:\n",
    "$$ P_{n+1}=\\frac{2P_np_n}{(P_n+p_n)} $$\n",
    "$$ p_{n+1}=\\sqrt{p_nP_{n+1}} $$\n",
    "\n",
    "Usando o módulo **decimal** obtemos o programa:\n"
   ]
  },
  {
   "cell_type": "code",
   "execution_count": 1,
   "metadata": {},
   "outputs": [
    {
     "name": "stdout",
     "output_type": "stream",
     "text": [
      "3.141592653589793238462643383279502884197169399375105820974944592307816406286208998628034825342117068\n"
     ]
    }
   ],
   "source": [
    "import decimal\n",
    "\n",
    "def ArchPi(precision=99):\n",
    "    # x: circumference of the circumscribed (outside) regular polygon\n",
    "    # y: circumference of the inscribed (inside) regular polygon\n",
    "\n",
    "    decimal.getcontext().prec = precision+1\n",
    "    D=decimal.Decimal\n",
    "    \n",
    "    # max error allowed\n",
    "    eps = D(1)/D(10**precision)\n",
    "    \n",
    "    # initialize w/ square\n",
    "    x = D(4)\n",
    "    y = D(2)*D(2).sqrt()\n",
    "\n",
    "    ctr = D(0)\n",
    "    while x-y > eps:\n",
    "        xnew = 2*x*y/(x+y)\n",
    "        y = D(xnew*y).sqrt()\n",
    "        x = xnew\n",
    "        ctr += 1\n",
    "        \n",
    "    return str((x+y)/D(2))\n",
    "print(ArchPi(99))"
   ]
  },
  {
   "cell_type": "code",
   "execution_count": 2,
   "metadata": {},
   "outputs": [
    {
     "name": "stdout",
     "output_type": "stream",
     "text": [
      "3.141592653589793238462643383279502884197169399375105820974944592307816406286208998628034825342117067982148086513282306647093844609550582231725359408128481117450284102701938521105559644622948954930381978\n"
     ]
    }
   ],
   "source": [
    "print(ArchPi(201))"
   ]
  },
  {
   "cell_type": "code",
   "execution_count": 3,
   "metadata": {},
   "outputs": [
    {
     "name": "stdout",
     "output_type": "stream",
     "text": [
      "3.141592653589793238462643383279502884197169399375105820974944592307816406286208998628034825342117067982148086513282306647093844609550582231725359408128481117450284102701938521105559644622948954930381964428810975665933446128475648233786783165271201909145648566923460348610454326648213393607260249141274\n"
     ]
    }
   ],
   "source": [
    "print(ArchPi(300))"
   ]
  },
  {
   "cell_type": "markdown",
   "metadata": {},
   "source": [
    "## Prova das relações de Arquimedes.\n",
    "\n",
    "Vamos considerar a figura \n",
    "\n",
    "![](arquimedes1.png)"
   ]
  },
  {
   "cell_type": "markdown",
   "metadata": {},
   "source": [
    "![](arquimedes2.png)"
   ]
  },
  {
   "cell_type": "code",
   "execution_count": null,
   "metadata": {},
   "outputs": [],
   "source": []
  }
 ],
 "metadata": {
  "kernelspec": {
   "display_name": "Python 3",
   "language": "python",
   "name": "python3"
  },
  "language_info": {
   "codemirror_mode": {
    "name": "ipython",
    "version": 3
   },
   "file_extension": ".py",
   "mimetype": "text/x-python",
   "name": "python",
   "nbconvert_exporter": "python",
   "pygments_lexer": "ipython3",
   "version": "3.7.6"
  }
 },
 "nbformat": 4,
 "nbformat_minor": 1
}
