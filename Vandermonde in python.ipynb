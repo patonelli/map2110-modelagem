{
 "cells": [
  {
   "cell_type": "markdown",
   "metadata": {},
   "source": [
    "## Matriz de Vandermonde\n",
    "\n",
    "#### Exemplo\n",
    "temos uma tabela de pontos:\n",
    "$$ \\begin{array}{|c|cccc|}\\hline\n",
    "x & 1 & 2 & 4 & 10 \\\\ \\hline\n",
    "y & -2 & 6 & 0 & 10\\\\ \\hline \\end{array}$$\n",
    "e queremos encontrar o polinômio cúbico que passa por estes quatro pontos $p(x) =a_3x^3 + a_2x^2 + a_1x +a_0$\n",
    "Uma forma para se fazer é usar as condições de ajuste do polinômio em cada ponto da tabela:\n",
    "$$\\begin{gather*}\n",
    "p(1) =a_3(1^3) + a_2(1^2) + a_1(1) +a_0.1=-2 \\\\\n",
    "p(2) =a_3(2^3) + a_2(2^2) + a_1(2) +a_0.1= 6 \\\\\n",
    "p(4) =a_3(4^3) + a_2(4^2) + a_1(4) +a_0.1= 0\\\\\n",
    "p(10) =a_3(10^3) + a_2(10^2) + a_1(10) +a_0.1=10\n",
    "\\end{gather*}$$\n",
    "\n",
    "Este sistema podemos resolver escrevendo na forma matricial:\n",
    "\n",
    "$$ \\begin{pmatrix} 1 & 1& 1^2 & 1^3\\\\\n",
    "1 & 2&2^2 & 2^3 \\\\\n",
    "1 & 4 & 4^2 & 4^3 \\\\\n",
    "1 & 10 & 10^2 & 10^3 \\end{pmatrix}\n",
    "\\begin{pmatrix} a_0 \\\\ a_1 \\\\ a_2 \\\\ a_3\\end{pmatrix}=\n",
    "\\begin{pmatrix} -2 \\\\ 6 \\\\ 0 \\\\ 10 \\end{pmatrix} \n",
    "$$ que é um sistema com uma matriz de Vandermonde.\n"
   ]
  },
  {
   "cell_type": "code",
   "execution_count": 1,
   "metadata": {},
   "outputs": [],
   "source": [
    "import numpy as np\n",
    "import matplotlib.pyplot as plt"
   ]
  },
  {
   "cell_type": "code",
   "execution_count": 2,
   "metadata": {},
   "outputs": [],
   "source": [
    "%matplotlib inline"
   ]
  },
  {
   "cell_type": "code",
   "execution_count": 5,
   "metadata": {},
   "outputs": [],
   "source": [
    "x=np.array([1, 2, 4, 10])"
   ]
  },
  {
   "cell_type": "code",
   "execution_count": 6,
   "metadata": {},
   "outputs": [],
   "source": [
    "y=np.array([-2,6,0,10])"
   ]
  },
  {
   "cell_type": "code",
   "execution_count": 9,
   "metadata": {},
   "outputs": [
    {
     "data": {
      "image/png": "[encoded data removed]",
      "text/plain": [
       "<Figure size 432x288 with 1 Axes>"
      ]
     },
     "metadata": {
      "needs_background": "light"
     },
     "output_type": "display_data"
    }
   ],
   "source": [
    "plt.plot(x,y, \"ro\")\n",
    "plt.grid()"
   ]
  },
  {
   "cell_type": "code",
   "execution_count": 13,
   "metadata": {},
   "outputs": [],
   "source": [
    "A=np.array([[1,1,1,1],\n",
    "            [1,2,4,8], \n",
    "            [1,4,16,64], \n",
    "            [1, 10,100,1000]])"
   ]
  },
  {
   "cell_type": "code",
   "execution_count": 14,
   "metadata": {},
   "outputs": [
    {
     "data": {
      "text/plain": [
       "array([[   1,    1,    1,    1],\n",
       "       [   1,    2,    4,    8],\n",
       "       [   1,    4,   16,   64],\n",
       "       [   1,   10,  100, 1000]])"
      ]
     },
     "execution_count": 14,
     "metadata": {},
     "output_type": "execute_result"
    }
   ],
   "source": [
    "A\n"
   ]
  },
  {
   "cell_type": "code",
   "execution_count": 20,
   "metadata": {},
   "outputs": [],
   "source": [
    "Ainv=np.linalg.inv(A)"
   ]
  },
  {
   "cell_type": "code",
   "execution_count": 38,
   "metadata": {},
   "outputs": [],
   "source": [
    "a=np.dot(Ainv,y)\n"
   ]
  },
  {
   "cell_type": "code",
   "execution_count": 39,
   "metadata": {},
   "outputs": [],
   "source": [
    "p = lambda x : a[3]*x**3 + a[2]*x**2 + a[1]*x + a[0]\n"
   ]
  },
  {
   "cell_type": "code",
   "execution_count": 42,
   "metadata": {},
   "outputs": [],
   "source": [
    "t = np.linspace(0,10,100)"
   ]
  },
  {
   "cell_type": "code",
   "execution_count": 50,
   "metadata": {},
   "outputs": [
    {
     "data": {
      "image/png": "[encoded data removed]",
      "text/plain": [
       "<Figure size 432x288 with 1 Axes>"
      ]
     },
     "metadata": {
      "needs_background": "light"
     },
     "output_type": "display_data"
    }
   ],
   "source": [
    "plt.plot(t,p(t))\n",
    "plt.plot(x,y,\"ro\")\n",
    "plt.grid()"
   ]
  },
  {
   "cell_type": "code",
   "execution_count": null,
   "metadata": {},
   "outputs": [],
   "source": []
  }
 ],
 "metadata": {
  "kernelspec": {
   "display_name": "Python 3",
   "language": "python",
   "name": "python3"
  },
  "language_info": {
   "codemirror_mode": {
    "name": "ipython",
    "version": 3
   },
   "file_extension": ".py",
   "mimetype": "text/x-python",
   "name": "python",
   "nbconvert_exporter": "python",
   "pygments_lexer": "ipython3",
   "version": "3.7.6"
  }
 },
 "nbformat": 4,
 "nbformat_minor": 4
}
