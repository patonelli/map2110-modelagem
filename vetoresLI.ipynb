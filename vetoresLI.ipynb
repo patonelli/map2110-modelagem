{
 "cells": [
  {
   "cell_type": "markdown",
   "metadata": {
    "slideshow": {
     "slide_type": "-"
    }
   },
   "source": [
    "## Sobre conjuntos linearmente independentes de vetores\n",
    "\n",
    "Uma família de vetores $\\{ \\vec{v}_1, \\dots, \\vec{v}_n \\}$ é linearmente independente se, e somente se a única forma de se escrever o vetor nulo $\\vec{0}$ como combinação linear é a trivial.\n",
    "Isto também significa que nenhum vetor $\\vec{v}_i$ deste conjunto pode se escrever como combinação linear dos vetores restantes.\n",
    "\n",
    "Se $\\vec{v}$ é um vetor do sub-espaço gerado por $\\{ \\vec{v}_1 \\dots \\vec{v}_n \\}$ de quantas formas diferentes ele pode ser escrito como combinação linear desses vetores?"
   ]
  },
  {
   "cell_type": "markdown",
   "metadata": {
    "slideshow": {
     "slide_type": "-"
    }
   },
   "source": [
    "Vamos resolver alguns exercícios do Apostol:\n",
    "Considerem os vetores \n",
    "$$ \\vec{v}_1=\\mathbf{i} \\text{  }  \\vec{v}_2=\\mathbf{i} + \\mathbf{j} \\text{ e }\\vec{v}_3 = \\mathbf{i + j + 3k} $$\n",
    "\n",
    "* Prove que $\\{ \\vec{v}_1,\\vec{v}_2,\\vec{v}_3\\}$ é LI\n",
    "* Escreva os vetores $\\mathbf{i}$ e $\\mathbf{j}$ como combinação linear de $\\{ \\vec{v}_1,\\vec{v}_2,\\vec{v}_3\\}$\n",
    "* Escreva o vetor $2\\mathbf{i} -3\\mathbf{i} + 5\\mathbf{k}$ como combinação linear de $\\{ \\vec{v}_1,\\vec{v}_2,\\vec{v}_3\\}$.\n",
    "* Prove que $\\{ \\vec{v}_1,\\vec{v}_2,\\vec{v}_3\\}$ é uma base."
   ]
  },
  {
   "cell_type": "markdown",
   "metadata": {
    "slideshow": {
     "slide_type": "-"
    }
   },
   "source": [
    "*Exercicio 13*\n",
    "\n",
    "* Mostre que os vetores $(\\sqrt{3}, 1, 0)$, $(1,\\sqrt{3}, 1)$ e $(0,1,\\sqrt{3})$ são LI.\n",
    "* Mostre que os vetores $(\\sqrt{2}, 1, 0)$, $(1,\\sqrt{2}, 1)$ e $(0,1,\\sqrt{3})$ são LD.\n",
    "* Encontre todos os valores reais possíveis de $t$ para que os vetores $(t, 1, 0)$, $(1,t, 1)$ e $(0,1,t)$ sejam LI."
   ]
  },
  {
   "cell_type": "markdown",
   "metadata": {
    "slideshow": {
     "slide_type": "slide"
    }
   },
   "source": [
    "*Exercício 15*\n",
    "\n",
    "Se três vetores de $V_n$, $\\vec{a},$  $\\vec{b}$ e $\\vec{c}$ são LI. Verifique se cada uma das afirmações abaixo é verdadeira ou falsa.\n",
    "\n",
    "* $\\vec{a}+\\vec{b}$, $\\vec{b}+\\vec{c}$ e $\\vec{c} + \\vec{a}$ formam um conjunto LI.\n",
    "* $\\vec{a}-\\vec{b}$, $\\vec{b}+\\vec{c}$ e $\\vec{c} + \\vec{a}$ formam um conjunto LI."
   ]
  },
  {
   "cell_type": "code",
   "execution_count": null,
   "metadata": {},
   "outputs": [],
   "source": []
  }
 ],
 "metadata": {
  "kernelspec": {
   "display_name": "Python 3",
   "language": "python",
   "name": "python3"
  },
  "language_info": {
   "codemirror_mode": {
    "name": "ipython",
    "version": 3
   },
   "file_extension": ".py",
   "mimetype": "text/x-python",
   "name": "python",
   "nbconvert_exporter": "python",
   "pygments_lexer": "ipython3",
   "version": "3.7.6"
  }
 },
 "nbformat": 4,
 "nbformat_minor": 4
}
